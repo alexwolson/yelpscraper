{
 "cells": [
  {
   "cell_type": "code",
   "execution_count": 10,
   "id": "6501fa33-a6be-43c6-9475-a07cf17361d2",
   "metadata": {},
   "outputs": [],
   "source": [
    "import json\n",
    "import pickle"
   ]
  },
  {
   "cell_type": "code",
   "execution_count": 3,
   "id": "ca49981f-a8cc-4439-8bc5-e77a7e131519",
   "metadata": {},
   "outputs": [],
   "source": [
    "with open(\"categories.json\", \"r\") as f:\n",
    "    categories = json.load(f)"
   ]
  },
  {
   "cell_type": "code",
   "execution_count": 8,
   "id": "5b0122f0-d7dd-4f38-8b15-feffcdbfe2f8",
   "metadata": {},
   "outputs": [],
   "source": [
    "category_names = []\n",
    "category_names_byletter = {}\n",
    "for category in categories:\n",
    "    if (\n",
    "        \"country_whitelist\" in category.keys()\n",
    "        and \"CA\" not in category[\"country_whitelist\"]\n",
    "    ):\n",
    "        continue\n",
    "    if \"country_blacklist\" in category.keys() and \"CA\" in category[\"country_blacklist\"]:\n",
    "        continue\n",
    "    category_names.append(category[\"title\"])\n",
    "    letter = category[\"title\"][0]\n",
    "    if letter not in category_names_byletter.keys():\n",
    "        category_names_byletter[letter] = [category[\"title\"]]\n",
    "    else:\n",
    "        category_names_byletter[letter].append(category[\"title\"])"
   ]
  },
  {
   "cell_type": "code",
   "execution_count": 12,
   "id": "911c6ecc-3306-4e4c-af5a-91427e83ef16",
   "metadata": {},
   "outputs": [],
   "source": [
    "with open(\"categories.pickle\", \"wb\") as f:\n",
    "    pickle.dump(category_names, f, protocol=4)"
   ]
  },
  {
   "cell_type": "code",
   "execution_count": 13,
   "id": "0da191c9-4cfa-4c43-a07a-c3f3db7dd47f",
   "metadata": {},
   "outputs": [],
   "source": [
    "for k, v in category_names_byletter.items():\n",
    "    with open(f\"categoriesbyletter/categories_{k}.pickle\", \"wb\") as f:\n",
    "        pickle.dump(v, f, protocol=4)"
   ]
  },
  {
   "cell_type": "code",
   "execution_count": null,
   "id": "50bd6ed0-67e5-4a90-9149-19bc06ccb66e",
   "metadata": {},
   "outputs": [],
   "source": []
  }
 ],
 "metadata": {
  "kernelspec": {
   "display_name": "Python 3 (ipykernel)",
   "language": "python",
   "name": "python3"
  },
  "language_info": {
   "codemirror_mode": {
    "name": "ipython",
    "version": 3
   },
   "file_extension": ".py",
   "mimetype": "text/x-python",
   "name": "python",
   "nbconvert_exporter": "python",
   "pygments_lexer": "ipython3",
   "version": "3.9.7"
  }
 },
 "nbformat": 4,
 "nbformat_minor": 5
}
